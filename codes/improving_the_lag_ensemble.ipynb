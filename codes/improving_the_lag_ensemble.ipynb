{
 "cells": [
  {
   "cell_type": "markdown",
   "id": "582fd478-c52e-4301-999a-752ad97b9062",
   "metadata": {},
   "source": [
    "# X_clustered vs Sampling the Train Cluster by Cluster\n",
    "\n",
    "In order to improve our lag_regression_ensemble model, we are going to compare its validation loss against different models that are trained on various data sets constructed by sampling from the X clusters."
   ]
  },
  {
   "cell_type": "code",
   "execution_count": 11,
   "id": "af5ec322-b523-44df-b38b-8fb30229c63a",
   "metadata": {},
   "outputs": [],
   "source": [
    "import numpy as np\n",
    "import pandas as pd\n",
    "import matplotlib.pyplot as plt\n",
    "from sklearn.linear_model import Ridge, SGDRegressor\n",
    "from sklearn.preprocessing import StandardScaler\n",
    "import os\n",
    "import gc\n",
    "import warnings\n",
    "from tqdm.notebook import tqdm\n",
    "from collections import defaultdict\n",
    "import time\n",
    "warnings.filterwarnings('ignore')"
   ]
  },
  {
   "cell_type": "code",
   "execution_count": 31,
   "id": "97e44bf7-0922-40a7-a874-1b380592125f",
   "metadata": {},
   "outputs": [],
   "source": [
    "train = pd.read_parquet('X_clustered.parquet')\n",
    "\n",
    "Y = pd.read_parquet('data/train.parquet')['label']"
   ]
  },
  {
   "cell_type": "markdown",
   "id": "5eef8b2d-f0c3-46a6-9239-0cbb0867efbf",
   "metadata": {},
   "source": [
    "## The Model\n",
    "\n",
    "Defined in the same way as in the lag_reg_ensemble notebook."
   ]
  },
  {
   "cell_type": "code",
   "execution_count": 7,
   "id": "533ebd07-189e-48d3-92ba-fff3eb88741b",
   "metadata": {},
   "outputs": [],
   "source": [
    "class IncrementalLagEnsemble:\n",
    "    \"\"\"Incrementally trains models on different lag configurations using SGD.\"\"\"\n",
    "    \n",
    "    def __init__(self, feature_batch_size=20, lag_batch_size=5, n_epochs=9):\n",
    "        self.feature_batch_size = feature_batch_size\n",
    "        self.lag_batch_size = lag_batch_size\n",
    "        self.n_epochs = n_epochs  \n",
    "        self.models = {}\n",
    "        self.scalers = {}\n",
    "        self.feature_names = None\n",
    "        self.model_weights = {}\n",
    "        self.performance_history = defaultdict(list)\n",
    "        \n",
    "        # Define lag strategies with odd/even splits for many configurations\n",
    "        self.lag_strategies = {\n",
    "            # Original micro lags\n",
    "            'micro': [1, 2, 3, 4, 5],\n",
    "            'micro_odd': [1, 3, 5, 7, 9],\n",
    "            'micro_even': [2, 4, 6, 8, 10],\n",
    "            \n",
    "            # Ultra short with odd/even\n",
    "            'ultra_short': [6, 8, 10, 12, 15],\n",
    "            'ultra_short_odd': [7, 9, 11, 13, 15, 17],\n",
    "            'ultra_short_even': [6, 8, 10, 12, 14, 16],\n",
    "            \n",
    "            # Short with odd/even\n",
    "            'short': [20, 25, 30, 40, 50],\n",
    "            'short_odd': [21, 25, 31, 41, 51],\n",
    "            'short_even': [20, 24, 30, 40, 50],\n",
    "            \n",
    "            # Short medium with odd/even\n",
    "            'short_medium': [60, 75, 90, 105, 120],\n",
    "            'short_medium_odd': [61, 75, 91, 105, 121],\n",
    "            'short_medium_even': [60, 74, 90, 104, 120],\n",
    "            \n",
    "            # Medium with odd/even\n",
    "            'medium': [150, 180, 210, 240, 300],\n",
    "            'medium_odd': [151, 181, 211, 241, 301],\n",
    "            \n",
    "            # Medium long with odd/even\n",
    "            'medium_long': [360, 420, 480, 540, 600],\n",
    "            'medium_long_odd': [361, 421, 481, 541, 601],\n",
    "            \n",
    "            # Long with odd/even\n",
    "            'long': [720, 840, 960, 1080, 1200],\n",
    "            'long_odd': [721, 841, 961, 1081, 1201],\n",
    "            \n",
    "            # Very long with odd/even\n",
    "            'very_long': [1440, 1800, 2160, 2520, 2880],\n",
    "            'very_long_odd': [1441, 1801, 2161, 2521, 2881],\n",
    "            \n",
    "            # Ultra long (keeping original only due to very large values)\n",
    "            'ultra_long': [3600, 4320, 5040, 5760, 7200]\n",
    "        }\n",
    "        \n",
    "    def create_lag_features_batch(self, df, lag_list):\n",
    "        \"\"\"Create lag features for a batch of lags.\"\"\"\n",
    "        lag_features = []\n",
    "        \n",
    "        for lag in lag_list:\n",
    "            lagged = df.shift(-lag)\n",
    "            lagged.columns = [f'{col}_lag_{lag}' for col in df.columns]\n",
    "            lag_features.append(lagged)\n",
    "        \n",
    "        result = pd.concat([df] + lag_features, axis=1)\n",
    "        result = result.fillna(0)\n",
    "        \n",
    "        return result\n",
    "    \n",
    "    def train_sgd_model(self, X, y, model_name):\n",
    "        \"\"\"Train SGD model incrementally with more epochs.\"\"\"\n",
    "        print(f\"  Training SGD model: {model_name} ({self.n_epochs} epochs)\")\n",
    "        \n",
    "        # Initialize model and scaler if not exists\n",
    "        if model_name not in self.models:\n",
    "            self.models[model_name] = SGDRegressor(\n",
    "                loss='huber',\n",
    "                penalty='elasticnet',\n",
    "                alpha=0.0001,\n",
    "                l1_ratio=0.15,\n",
    "                learning_rate='invscaling',\n",
    "                eta0=0.01,\n",
    "                power_t=0.25,\n",
    "                random_state=42,\n",
    "                warm_start=True,\n",
    "                max_iter=1000,\n",
    "                tol=1e-3\n",
    "            )\n",
    "            self.scalers[model_name] = StandardScaler()\n",
    "            \n",
    "        model = self.models[model_name]\n",
    "        scaler = self.scalers[model_name]\n",
    "        \n",
    "        # Train in epochs with smaller chunks for better convergence\n",
    "        chunk_size = 25000  # Slightly smaller chunks for more updates\n",
    "        for epoch in range(self.n_epochs):\n",
    "            # Shuffle indices for each epoch\n",
    "            indices = np.random.permutation(len(X))\n",
    "            \n",
    "            for start_idx in range(0, len(X), chunk_size):\n",
    "                end_idx = min(start_idx + chunk_size, len(X))\n",
    "                \n",
    "                # Get shuffled chunk\n",
    "                chunk_indices = indices[start_idx:end_idx]\n",
    "                X_chunk = X.iloc[chunk_indices]\n",
    "                y_chunk = y[chunk_indices]\n",
    "                \n",
    "                # Scale\n",
    "                if start_idx == 0 and epoch == 0:\n",
    "                    X_scaled = scaler.fit_transform(X_chunk)\n",
    "                else:\n",
    "                    X_scaled = scaler.transform(X_chunk)\n",
    "                \n",
    "                # Partial fit\n",
    "                model.partial_fit(X_scaled, y_chunk)\n",
    "            \n",
    "            # Print progress\n",
    "            if epoch % 3 == 0:\n",
    "                print(f\"    Epoch {epoch+1}/{self.n_epochs} completed\")\n",
    "        \n",
    "        return model\n",
    "    \n",
    "    def train_feature_batch(self, feature_batch, X_full, y, strategy_name, lag_list):\n",
    "        \"\"\"Train on a batch of features with specific lags.\"\"\"\n",
    "        print(f\"\\n  Processing feature batch ({len(feature_batch)} features) with {strategy_name} lags\")\n",
    "        \n",
    "        # Select feature batch\n",
    "        X_batch = X_full[feature_batch].copy()\n",
    "        \n",
    "        # Create lag features\n",
    "        X_with_lags = self.create_lag_features_batch(X_batch, lag_list)\n",
    "        \n",
    "        # Train SGD model\n",
    "        model_name = f\"{strategy_name}_{feature_batch[0]}_{feature_batch[-1]}\"\n",
    "        self.train_sgd_model(X_with_lags, y, model_name)\n",
    "        \n",
    "        # Clean up\n",
    "        del X_batch, X_with_lags\n",
    "        gc.collect()\n",
    "        \n",
    "    def fit(self, X, y):\n",
    "        \"\"\"Fit ensemble using incremental training.\"\"\"\n",
    "        print(\"Training Incremental Lag Ensemble with Odd/Even Lag Configurations...\")\n",
    "        print(f\"Total epochs per model: {self.n_epochs}\")\n",
    "        \n",
    "        self.feature_names = X.columns.tolist()\n",
    "        n_features = len(self.feature_names)\n",
    "        \n",
    "        # Split features into batches\n",
    "        feature_batches = []\n",
    "        for i in range(0, n_features, self.feature_batch_size):\n",
    "            batch = self.feature_names[i:i+self.feature_batch_size]\n",
    "            feature_batches.append(batch)\n",
    "        \n",
    "        print(f\"Split {n_features} features into {len(feature_batches)} batches\")\n",
    "        print(f\"Total lag strategies (including odd/even): {len(self.lag_strategies)}\")\n",
    "        \n",
    "        # Calculate total lag values\n",
    "        total_lags = sum(len(lags) for lags in self.lag_strategies.values())\n",
    "        print(f\"Total unique lag values: {total_lags}\")\n",
    "        \n",
    "        # Train models for each combination of feature batch and lag strategy\n",
    "        total_models = len(feature_batches) * len(self.lag_strategies)\n",
    "        model_count = 0\n",
    "        \n",
    "        for strategy_name, lag_list in self.lag_strategies.items():\n",
    "            print(f\"\\nTraining {strategy_name} strategy (lags: {lag_list})\")\n",
    "            \n",
    "            for batch_idx, feature_batch in enumerate(feature_batches):\n",
    "                model_count += 1\n",
    "                print(f\"Progress: {model_count}/{total_models} models\")\n",
    "                \n",
    "                self.train_feature_batch(feature_batch, X, y, strategy_name, lag_list)\n",
    "                \n",
    "                # Clean up periodically\n",
    "                if batch_idx % 2 == 0:\n",
    "                    gc.collect()\n",
    "        \n",
    "        # Initialize equal weights\n",
    "        for model_name in self.models:\n",
    "            self.model_weights[model_name] = 1.0 / len(self.models)\n",
    "        \n",
    "        print(f\"\\nTotal models trained: {len(self.models)}\")\n",
    "        \n",
    "    def predict_batch(self, X, feature_batch, strategy_name, lag_list):\n",
    "        \"\"\"Make predictions for a specific feature batch and lag strategy.\"\"\"\n",
    "        model_name = f\"{strategy_name}_{feature_batch[0]}_{feature_batch[-1]}\"\n",
    "        \n",
    "        if model_name not in self.models:\n",
    "            return None\n",
    "            \n",
    "        # Select features\n",
    "        X_batch = X[feature_batch].copy()\n",
    "        \n",
    "        # Create lag features\n",
    "        X_with_lags = self.create_lag_features_batch(X_batch, lag_list)\n",
    "        \n",
    "        # Scale and predict\n",
    "        X_scaled = self.scalers[model_name].transform(X_with_lags)\n",
    "        predictions = self.models[model_name].predict(X_scaled)\n",
    "        \n",
    "        # Clean up\n",
    "        del X_batch, X_with_lags, X_scaled\n",
    "        gc.collect()\n",
    "        \n",
    "        return predictions\n",
    "    \n",
    "    def predict(self, X):\n",
    "        \"\"\"Make ensemble predictions.\"\"\"\n",
    "        all_predictions = []\n",
    "        weights = []\n",
    "        \n",
    "        # Recreate feature batches\n",
    "        n_features = len(self.feature_names)\n",
    "        feature_batches = []\n",
    "        for i in range(0, n_features, self.feature_batch_size):\n",
    "            batch = self.feature_names[i:i+self.feature_batch_size]\n",
    "            if all(col in X.columns for col in batch):\n",
    "                feature_batches.append(batch)\n",
    "        \n",
    "        # Get predictions from each model\n",
    "        for strategy_name, lag_list in self.lag_strategies.items():\n",
    "            for feature_batch in feature_batches:\n",
    "                pred = self.predict_batch(X, feature_batch, strategy_name, lag_list)\n",
    "                if pred is not None:\n",
    "                    all_predictions.append(pred)\n",
    "                    model_name = f\"{strategy_name}_{feature_batch[0]}_{feature_batch[-1]}\"\n",
    "                    weights.append(self.model_weights.get(model_name, 1.0))\n",
    "        \n",
    "        # Weighted average\n",
    "        if all_predictions:\n",
    "            weights = np.array(weights) / np.sum(weights)\n",
    "            return np.average(all_predictions, axis=0, weights=weights)\n",
    "        else:\n",
    "            return np.zeros(len(X))\n"
   ]
  },
  {
   "cell_type": "code",
   "execution_count": null,
   "id": "0e8b7a0b-bedf-4ce8-bcea-03407f66984c",
   "metadata": {},
   "outputs": [],
   "source": [
    "y_train = Y[:-100000].to_numpy().astype(np.float32)\n",
    "\n",
    "X_train = train.copy()[:-100000]\n",
    "\n",
    "y_val = Y[-100000:].to_numpy().astype(np.float32)\n",
    "\n",
    "X_val = train.copy()[-100000:]\n",
    "\n",
    "t = time.time()\n",
    "\n",
    "ensemble = IncrementalLagEnsemble(\n",
    "    feature_batch_size=20,  # Slightly smaller batches due to more features\n",
    "    lag_batch_size=5,\n",
    "    n_epochs=9  \n",
    ")\n",
    "ensemble.fit(X_train, y_train)\n",
    "\n",
    "print(f\"Training Time: {time.time()-t}\")"
   ]
  },
  {
   "cell_type": "markdown",
   "id": "a6477ecb-00a5-4129-a67d-23bb9b2fbe18",
   "metadata": {},
   "source": [
    "We compute the correaltion between y_pred_val and y_val."
   ]
  },
  {
   "cell_type": "code",
   "execution_count": 17,
   "id": "d641f094-c744-4615-83fc-756490af0024",
   "metadata": {},
   "outputs": [
    {
     "data": {
      "text/plain": [
       "array([[0.08127172, 0.27048444],\n",
       "       [0.27048444, 1.08276444]])"
      ]
     },
     "execution_count": 17,
     "metadata": {},
     "output_type": "execute_result"
    }
   ],
   "source": [
    "y_pred_val = ensemble.predict(X_val)\n",
    "\n",
    "np.cov(y_pred_val, y_val)"
   ]
  },
  {
   "cell_type": "code",
   "execution_count": 15,
   "id": "0e7b2c62-7e03-4570-b3ae-aa95befc1f3a",
   "metadata": {},
   "outputs": [
    {
     "data": {
      "text/plain": [
       "0.9118125576143877"
      ]
     },
     "execution_count": 15,
     "metadata": {},
     "output_type": "execute_result"
    }
   ],
   "source": [
    "0.27048444/(np.sqrt(1.08276444*0.08127172))"
   ]
  },
  {
   "cell_type": "markdown",
   "id": "4cda9f3e-ab85-41f4-8111-f1d2b47b2c91",
   "metadata": {},
   "source": [
    "## Heteroskedasticity in our Reg Models\n",
    "\n",
    "The following cell gives us a simple visualization of the heteroskedasticity in our regression models. Removing the heteroskedasticity does not result in a better preformance, and that is why we did not pursue this idea."
   ]
  },
  {
   "cell_type": "code",
   "execution_count": 70,
   "id": "cdfe5f8e-0186-4c38-9978-753d37bb0d52",
   "metadata": {},
   "outputs": [
    {
     "data": {
      "image/png": "[encoded data removed]",
      "text/plain": [
       "<Figure size 640x480 with 1 Axes>"
      ]
     },
     "metadata": {},
     "output_type": "display_data"
    }
   ],
   "source": [
    "model1 = ensemble.models['long_odd_36_55']\n",
    "\n",
    "model1_features = [str(i) for i in range(36,56)]\n",
    "\n",
    "y_model1_pred = ensemble.predict_batch(X_train, model1_features, 'long_odd', [721, 841, 961, 1081, 1201])\n",
    "\n",
    "model_1_errors = y_train - y_model1_pred\n",
    "\n",
    "plt.scatter(y_model1_pred, model_1_errors)\n",
    "\n",
    "plt.show()"
   ]
  },
  {
   "cell_type": "markdown",
   "id": "97256c75-eeca-4095-830c-5de68428ed85",
   "metadata": {},
   "source": [
    "## Load the Clusters"
   ]
  },
  {
   "cell_type": "code",
   "execution_count": 88,
   "id": "2ea1414b-2fe4-4067-b215-186c53dba7dc",
   "metadata": {},
   "outputs": [],
   "source": [
    "clusters = pd.read_csv('clusters.csv', index_col=0)"
   ]
  },
  {
   "cell_type": "code",
   "execution_count": 134,
   "id": "b1b99678-9eef-4adf-90a0-13d6db0f256e",
   "metadata": {},
   "outputs": [],
   "source": [
    "clusters_dict = defaultdict(list)\n",
    "\n",
    "for c in np.unique(clusters):\n",
    "    X = clusters[clusters['0'] == c]\n",
    "    clusters_dict[c] = X.index.tolist()"
   ]
  },
  {
   "cell_type": "markdown",
   "id": "e943b53f-7695-43d3-ad9f-50d9c77b30ac",
   "metadata": {},
   "source": [
    "## Sampling the Clusters\n",
    "\n",
    "We sample one by one from each clusters untill all the X features are sampled. Each sampling round is stored in features, and we add it to the features_list at the end of each sampling round."
   ]
  },
  {
   "cell_type": "code",
   "execution_count": 138,
   "id": "19413672-d8c2-4323-a739-8a69b7ab8e50",
   "metadata": {},
   "outputs": [],
   "source": [
    "total = 0\n",
    "\n",
    "features_list = []\n",
    "\n",
    "while total<780:\n",
    "    features = []\n",
    "    for k in clusters_dict.keys():\n",
    "        if len(clusters_dict[k])>0:\n",
    "            features.append(clusters_dict[k][-1])\n",
    "            clusters_dict[k].pop()\n",
    "            total += 1\n",
    "    features_list.append(features)\n",
    "    features = list([])\n",
    "    "
   ]
  },
  {
   "cell_type": "markdown",
   "id": "868da74d-c2a3-411e-ad69-8034d5014e98",
   "metadata": {},
   "source": [
    "### The Features_list\n",
    "\n",
    "There are 24 lists of features in the feature list. We are going to discard the ones that have less than 10 features."
   ]
  },
  {
   "cell_type": "code",
   "execution_count": 142,
   "id": "20d40973-0ae2-4450-ac01-7b26d9c251ce",
   "metadata": {},
   "outputs": [
    {
     "data": {
      "text/plain": [
       "24"
      ]
     },
     "execution_count": 142,
     "metadata": {},
     "output_type": "execute_result"
    }
   ],
   "source": [
    "len(features_list)"
   ]
  },
  {
   "cell_type": "code",
   "execution_count": 162,
   "id": "792063fc-39d3-4bc2-bd05-ce474c509b2d",
   "metadata": {},
   "outputs": [],
   "source": [
    "while len(features_list[-1])<10:\n",
    "    features_list.pop()"
   ]
  },
  {
   "cell_type": "code",
   "execution_count": 164,
   "id": "a626ea95-e3c6-4fa4-a6fe-ed19c0260318",
   "metadata": {},
   "outputs": [
    {
     "data": {
      "text/plain": [
       "['X559',\n",
       " 'X238',\n",
       " 'X152',\n",
       " 'X457',\n",
       " 'X447',\n",
       " 'X34',\n",
       " 'X45',\n",
       " 'X170',\n",
       " 'X372',\n",
       " 'X293',\n",
       " 'X280']"
      ]
     },
     "execution_count": 164,
     "metadata": {},
     "output_type": "execute_result"
    }
   ],
   "source": [
    "features_list[-1]"
   ]
  },
  {
   "cell_type": "markdown",
   "id": "94f506d2-cb3d-4b42-bb1a-8e964c637a86",
   "metadata": {},
   "source": [
    "## Train a Model for each List of Features in Features_list\n",
    "\n",
    "We add the order book data to each element of the features_list, and train a reg_ensemble model on the resulting data set. For each model, we use the last 100000 data points as the validation set."
   ]
  },
  {
   "cell_type": "code",
   "execution_count": 174,
   "id": "ed6bcf39-0bb8-4e11-b7dc-dec72a666ec2",
   "metadata": {},
   "outputs": [],
   "source": [
    "train_original = pd.read_parquet('data/train.parquet')\n",
    "\n",
    "order_features = train_original.columns.tolist()[:5]\n",
    "\n",
    "new_features = order_features+features_list[0]\n",
    "\n",
    "X_train_new = train_original[new_features][:-100000]"
   ]
  },
  {
   "cell_type": "code",
   "execution_count": null,
   "id": "63de0e6e-75ac-4b9c-9ca3-8f5888badf6b",
   "metadata": {},
   "outputs": [],
   "source": [
    "ensemble_new = IncrementalLagEnsemble(\n",
    "    feature_batch_size=20,  # Slightly smaller batches due to more features\n",
    "    lag_batch_size=5,\n",
    "    n_epochs=9  # Increased to 9 as requested\n",
    ")\n",
    "\n",
    "ensemble_new.fit(X_train_new, y_train)"
   ]
  },
  {
   "cell_type": "code",
   "execution_count": 178,
   "id": "a37b0f6c-f387-4354-bcab-4f47ae132d64",
   "metadata": {},
   "outputs": [
    {
     "data": {
      "text/plain": [
       "array([[1.08276444, 0.27547381],\n",
       "       [0.27547381, 0.08170137]])"
      ]
     },
     "execution_count": 178,
     "metadata": {},
     "output_type": "execute_result"
    }
   ],
   "source": [
    "X_val_new = train_original[new_features][-100000:]\n",
    "\n",
    "y_new_pred = ensemble_new.predict(X_val_new)\n",
    "\n",
    "np.cov(y_val, y_new_pred)"
   ]
  },
  {
   "cell_type": "markdown",
   "id": "7168fd7f-8914-45e8-bc8c-4beaae796673",
   "metadata": {},
   "source": [
    "## Compute the Score\n",
    "\n",
    "For each trained model, we compute the correlation between y_val and y_pred. The first model has a better score than the model where we averaged the features over each cluster."
   ]
  },
  {
   "cell_type": "code",
   "execution_count": 27,
   "id": "9fc288af-3df5-4ab0-8238-46ce6a08b228",
   "metadata": {},
   "outputs": [
    {
     "data": {
      "text/plain": [
       "0.9261888415763434"
      ]
     },
     "execution_count": 27,
     "metadata": {},
     "output_type": "execute_result"
    }
   ],
   "source": [
    "0.27547381/(np.sqrt(1.08276*0.08170137))"
   ]
  },
  {
   "cell_type": "markdown",
   "id": "dc773fbf-3795-4acb-8bd7-59fe758b839f",
   "metadata": {},
   "source": [
    "## Heteroskedasticity in the New Model\n",
    "\n",
    "The following is another visualization of heteroskedasticity in our regressions."
   ]
  },
  {
   "cell_type": "code",
   "execution_count": 206,
   "id": "fb063931-61a1-4e0f-8d73-dc7fa5024baf",
   "metadata": {},
   "outputs": [
    {
     "data": {
      "image/png": "[encoded data removed]",
      "text/plain": [
       "<Figure size 640x480 with 1 Axes>"
      ]
     },
     "metadata": {},
     "output_type": "display_data"
    }
   ],
   "source": [
    "model1 = ensemble_new.models['micro_bid_qty_X501']\n",
    "\n",
    "model1_features = [X_train_new.columns.tolist()[i] for i in range(20)]\n",
    "\n",
    "y_model1_pred = ensemble_new.predict_batch(X_train_new, model1_features, 'micro', [1, 2, 3, 4, 5])\n",
    "\n",
    "model_1_errors = y_train - y_model1_pred\n",
    "\n",
    "plt.scatter(y_model1_pred, model_1_errors)\n",
    "\n",
    "plt.show()"
   ]
  },
  {
   "cell_type": "markdown",
   "id": "20a1ddef-6e8c-478d-8bda-4d07dc31b310",
   "metadata": {},
   "source": [
    "Repeat the same procedure for all the models."
   ]
  },
  {
   "cell_type": "code",
   "execution_count": null,
   "id": "9326afe7-cd5d-4816-823d-65b4d6a7d2a6",
   "metadata": {},
   "outputs": [],
   "source": [
    "features2 = features_list[1]\n",
    "\n",
    "X_train_features2 = train_original[order_features+features2][:-100000]\n",
    "\n",
    "X_val_features2 = train_original[order_features+features2][-100000:]\n",
    "\n",
    "t = time.time()\n",
    "\n",
    "ensemble_features2 = IncrementalLagEnsemble(\n",
    "    feature_batch_size=20,  # Slightly smaller batches due to more features\n",
    "    lag_batch_size=5,\n",
    "    n_epochs=9  # Increased to 9 as requested\n",
    ")\n",
    "\n",
    "ensemble_features2.fit(X_train_features2, y_train)\n",
    "\n",
    "print(f\"Training Time: {time.time()-t}\")"
   ]
  },
  {
   "cell_type": "code",
   "execution_count": 212,
   "id": "d2d8df72-4e40-49f6-a2a8-8a04baa56c47",
   "metadata": {},
   "outputs": [
    {
     "data": {
      "text/plain": [
       "array([[1.08276444, 0.2761608 ],\n",
       "       [0.2761608 , 0.08470559]])"
      ]
     },
     "execution_count": 212,
     "metadata": {},
     "output_type": "execute_result"
    }
   ],
   "source": [
    "y_pred_features2 = ensemble_features2.predict(X_val_features2)\n",
    "\n",
    "np.cov(y_val, y_pred_features2)"
   ]
  },
  {
   "cell_type": "code",
   "execution_count": 22,
   "id": "7b5f5b9b-7433-4291-a113-61d2dbe641fc",
   "metadata": {},
   "outputs": [
    {
     "data": {
      "text/plain": [
       "0.9118846276367727"
      ]
     },
     "execution_count": 22,
     "metadata": {},
     "output_type": "execute_result"
    }
   ],
   "source": [
    "0.2761608/(np.sqrt(1.08276*0.08470559))"
   ]
  },
  {
   "cell_type": "code",
   "execution_count": null,
   "id": "c962932f-540c-4e71-a62a-e9d5795ee91d",
   "metadata": {},
   "outputs": [],
   "source": [
    "features3 = features_list[2]\n",
    "\n",
    "X_train_features3 = train_original[order_features+features3][:-100000]\n",
    "\n",
    "X_val_features3 = train_original[order_features+features3][-100000:]\n",
    "\n",
    "t = time.time()\n",
    "\n",
    "ensemble_features3 = IncrementalLagEnsemble(\n",
    "    feature_batch_size=18,  # Slightly smaller batches due to more features\n",
    "    lag_batch_size=5,\n",
    "    n_epochs=9  # Increased to 9 as requested\n",
    ")\n",
    "\n",
    "ensemble_features3.fit(X_train_features3, y_train)\n",
    "\n",
    "print(f\"Training Time: {time.time()-t}\")"
   ]
  },
  {
   "cell_type": "code",
   "execution_count": 232,
   "id": "83f3cdfc-94cc-414f-9ebf-9dc30fde6a9f",
   "metadata": {},
   "outputs": [
    {
     "data": {
      "text/plain": [
       "array([[1.08276444, 0.26886823],\n",
       "       [0.26886823, 0.07903744]])"
      ]
     },
     "execution_count": 232,
     "metadata": {},
     "output_type": "execute_result"
    }
   ],
   "source": [
    "y_pred_features3 = ensemble_features3.predict(X_val_features3)\n",
    "\n",
    "np.cov(y_val, y_pred_features3)"
   ]
  },
  {
   "cell_type": "code",
   "execution_count": 24,
   "id": "38cd2b5d-bde8-4ba0-ac34-7c3c9cefe0b7",
   "metadata": {},
   "outputs": [
    {
     "data": {
      "text/plain": [
       "0.9190876996564301"
      ]
     },
     "execution_count": 24,
     "metadata": {},
     "output_type": "execute_result"
    }
   ],
   "source": [
    "0.26886823/(np.sqrt(1.08276*0.07903744))"
   ]
  },
  {
   "cell_type": "code",
   "execution_count": null,
   "id": "07c7be0a-f2d9-4e4f-bf12-922b663931ab",
   "metadata": {},
   "outputs": [],
   "source": [
    "features4 = features_list[3]\n",
    "\n",
    "X_train_features4 = train_original[order_features+features4][:-100000]\n",
    "\n",
    "X_val_features4 = train_original[order_features+features4][-100000:]\n",
    "\n",
    "t = time.time()\n",
    "\n",
    "ensemble_features4 = IncrementalLagEnsemble(\n",
    "    feature_batch_size=18,  # Slightly smaller batches due to more features\n",
    "    lag_batch_size=5,\n",
    "    n_epochs=9  # Increased to 9 as requested\n",
    ")\n",
    "\n",
    "ensemble_features4.fit(X_train_features4, y_train)\n",
    "\n",
    "print(f\"Training Time: {time.time()-t}\")"
   ]
  },
  {
   "cell_type": "code",
   "execution_count": 240,
   "id": "02a5bd61-e10d-463c-b1db-1efbb0ce1f77",
   "metadata": {},
   "outputs": [
    {
     "data": {
      "text/plain": [
       "array([[1.08276444, 0.31785443],\n",
       "       [0.31785443, 0.11629511]])"
      ]
     },
     "execution_count": 240,
     "metadata": {},
     "output_type": "execute_result"
    }
   ],
   "source": [
    "y_pred_features4 = ensemble_features4.predict(X_val_features4)\n",
    "\n",
    "np.cov(y_val, y_pred_features4)"
   ]
  },
  {
   "cell_type": "code",
   "execution_count": 26,
   "id": "807e482d-ba63-4048-888b-899bac0de6fc",
   "metadata": {},
   "outputs": [
    {
     "data": {
      "text/plain": [
       "0.8957389102111529"
      ]
     },
     "execution_count": 26,
     "metadata": {},
     "output_type": "execute_result"
    }
   ],
   "source": [
    "0.31785443/(np.sqrt(1.08276*0.11629511))"
   ]
  },
  {
   "cell_type": "code",
   "execution_count": null,
   "id": "9fa910be-a4aa-4a82-8752-79df950c1294",
   "metadata": {},
   "outputs": [],
   "source": [
    "features5 = features_list[4]\n",
    "\n",
    "X_train_features5 = train_original[order_features+features5][:-100000]\n",
    "\n",
    "X_val_features5 = train_original[order_features+features5][-100000:]\n",
    "\n",
    "t = time.time()\n",
    "\n",
    "ensemble_features5 = IncrementalLagEnsemble(\n",
    "    feature_batch_size=15,  # Slightly smaller batches due to more features\n",
    "    lag_batch_size=5,\n",
    "    n_epochs=9  # Increased to 9 as requested\n",
    ")\n",
    "\n",
    "ensemble_features5.fit(X_train_features5, y_train)\n",
    "\n",
    "print(f\"Training Time: {time.time()-t}\")"
   ]
  },
  {
   "cell_type": "code",
   "execution_count": 248,
   "id": "e2d8f266-19f0-413a-97d5-ab5c54c82332",
   "metadata": {},
   "outputs": [
    {
     "data": {
      "text/plain": [
       "array([[1.08276444, 0.30137438],\n",
       "       [0.30137438, 0.098665  ]])"
      ]
     },
     "execution_count": 248,
     "metadata": {},
     "output_type": "execute_result"
    }
   ],
   "source": [
    "y_pred_features5 = ensemble_features5.predict(X_val_features5)\n",
    "\n",
    "np.cov(y_val, y_pred_features5)"
   ]
  },
  {
   "cell_type": "code",
   "execution_count": 28,
   "id": "9783389b-c180-4cfd-b2a0-c0367a541238",
   "metadata": {},
   "outputs": [
    {
     "data": {
      "text/plain": [
       "0.9220589084426338"
      ]
     },
     "execution_count": 28,
     "metadata": {},
     "output_type": "execute_result"
    }
   ],
   "source": [
    "0.30137438/(np.sqrt(1.08276*0.098665))"
   ]
  },
  {
   "cell_type": "code",
   "execution_count": null,
   "id": "56f46dc9-d4cd-422c-ab8c-64a04ac79af8",
   "metadata": {},
   "outputs": [],
   "source": [
    "features6 = features_list[5]\n",
    "\n",
    "X_train_features6 = train_original[order_features+features6][:-100000]\n",
    "\n",
    "X_val_features6 = train_original[order_features+features6][-100000:]\n",
    "\n",
    "t = time.time()\n",
    "\n",
    "ensemble_features6 = IncrementalLagEnsemble(\n",
    "    feature_batch_size=15,  # Slightly smaller batches due to more features\n",
    "    lag_batch_size=5,\n",
    "    n_epochs=9  # Increased to 9 as requested\n",
    ")\n",
    "\n",
    "ensemble_features6.fit(X_train_features6, y_train)\n",
    "\n",
    "print(f\"Training Time: {time.time()-t}\")"
   ]
  },
  {
   "cell_type": "code",
   "execution_count": 258,
   "id": "cc1e9c12-1ca3-4554-a287-e539a2776ca8",
   "metadata": {},
   "outputs": [
    {
     "data": {
      "text/plain": [
       "array([[1.08276444, 0.30952941],\n",
       "       [0.30952941, 0.105549  ]])"
      ]
     },
     "execution_count": 258,
     "metadata": {},
     "output_type": "execute_result"
    }
   ],
   "source": [
    "y_pred_features6 = ensemble_features6.predict(X_val_features6)\n",
    "\n",
    "np.cov(y_val, y_pred_features6)"
   ]
  },
  {
   "cell_type": "code",
   "execution_count": 30,
   "id": "6917be05-cc38-421c-88cb-25497a39d257",
   "metadata": {},
   "outputs": [
    {
     "data": {
      "text/plain": [
       "0.9156062671349687"
      ]
     },
     "execution_count": 30,
     "metadata": {},
     "output_type": "execute_result"
    }
   ],
   "source": [
    "0.30952941/(np.sqrt(1.08276*0.105549))"
   ]
  },
  {
   "cell_type": "code",
   "execution_count": null,
   "id": "08ae05d2-7a88-4d98-b490-27ca65f6b249",
   "metadata": {},
   "outputs": [],
   "source": [
    "features7 = features_list[6]\n",
    "\n",
    "X_train_features7 = train_original[order_features+features7][:-100000]\n",
    "\n",
    "X_val_features7 = train_original[order_features+features7][-100000:]\n",
    "\n",
    "t = time.time()\n",
    "\n",
    "ensemble_features7 = IncrementalLagEnsemble(\n",
    "    feature_batch_size=12,  # Slightly smaller batches due to more features\n",
    "    lag_batch_size=5,\n",
    "    n_epochs=9  # Increased to 9 as requested\n",
    ")\n",
    "\n",
    "ensemble_features7.fit(X_train_features7, y_train)\n",
    "\n",
    "print(f\"Training Time: {time.time()-t}\")"
   ]
  },
  {
   "cell_type": "code",
   "execution_count": 264,
   "id": "1e5d9ef4-b10a-4eb1-af68-e313ebaf3d7a",
   "metadata": {},
   "outputs": [
    {
     "data": {
      "text/plain": [
       "array([[1.08276444, 0.30261294],\n",
       "       [0.30261294, 0.10436949]])"
      ]
     },
     "execution_count": 264,
     "metadata": {},
     "output_type": "execute_result"
    }
   ],
   "source": [
    "y_pred_features7 = ensemble_features7.predict(X_val_features7)\n",
    "\n",
    "np.cov(y_val, y_pred_features7)"
   ]
  },
  {
   "cell_type": "code",
   "execution_count": 32,
   "id": "8d2acca4-be47-4250-aa0e-3a96adf2bbba",
   "metadata": {},
   "outputs": [
    {
     "data": {
      "text/plain": [
       "0.9001908879605925"
      ]
     },
     "execution_count": 32,
     "metadata": {},
     "output_type": "execute_result"
    }
   ],
   "source": [
    "0.30261294/(np.sqrt(1.08276*0.10436949))"
   ]
  },
  {
   "cell_type": "code",
   "execution_count": null,
   "id": "44d495c2-e7d8-471b-abc3-a5883f1c4615",
   "metadata": {},
   "outputs": [],
   "source": [
    "features8 = features_list[7]\n",
    "\n",
    "X_train_features8 = train_original[order_features+features8][:-100000]\n",
    "\n",
    "X_val_features8 = train_original[order_features+features8][-100000:]\n",
    "\n",
    "t = time.time()\n",
    "\n",
    "ensemble_features8 = IncrementalLagEnsemble(\n",
    "    feature_batch_size=10,  # Slightly smaller batches due to more features\n",
    "    lag_batch_size=5,\n",
    "    n_epochs=9  # Increased to 9 as requested\n",
    ")\n",
    "\n",
    "ensemble_features8.fit(X_train_features8, y_train)\n",
    "\n",
    "print(f\"Training Time: {time.time()-t}\")"
   ]
  },
  {
   "cell_type": "code",
   "execution_count": 270,
   "id": "ec17c5ce-fc56-4dea-9c72-ed8c7d7e279b",
   "metadata": {},
   "outputs": [
    {
     "data": {
      "text/plain": [
       "array([[1.08276444, 0.28999669],\n",
       "       [0.28999669, 0.09543791]])"
      ]
     },
     "execution_count": 270,
     "metadata": {},
     "output_type": "execute_result"
    }
   ],
   "source": [
    "y_pred_features8 = ensemble_features8.predict(X_val_features8)\n",
    "\n",
    "np.cov(y_val, y_pred_features8)"
   ]
  },
  {
   "cell_type": "code",
   "execution_count": 34,
   "id": "7de21d91-b5e7-48ae-9f97-5e45be9bce54",
   "metadata": {},
   "outputs": [
    {
     "data": {
      "text/plain": [
       "0.9021245032245654"
      ]
     },
     "execution_count": 34,
     "metadata": {},
     "output_type": "execute_result"
    }
   ],
   "source": [
    "0.28999669/(np.sqrt(1.08276*0.09543791))"
   ]
  },
  {
   "cell_type": "code",
   "execution_count": null,
   "id": "5ef748fe-3740-46c2-99bd-947865904b13",
   "metadata": {},
   "outputs": [],
   "source": [
    "features9 = features_list[8]\n",
    "\n",
    "X_train_features9 = train_original[order_features+features9][:-100000]\n",
    "\n",
    "X_val_features9 = train_original[order_features+features9][-100000:]\n",
    "\n",
    "t = time.time()\n",
    "\n",
    "ensemble_features9 = IncrementalLagEnsemble(\n",
    "    feature_batch_size=12,  # Slightly smaller batches due to more features\n",
    "    lag_batch_size=5,\n",
    "    n_epochs=9  # Increased to 9 as requested\n",
    ")\n",
    "\n",
    "ensemble_features9.fit(X_train_features9, y_train)\n",
    "\n",
    "print(f\"Training Time: {time.time()-t}\")"
   ]
  },
  {
   "cell_type": "code",
   "execution_count": 276,
   "id": "fd6c4fb7-72d0-477c-ace2-9c9709428cac",
   "metadata": {},
   "outputs": [
    {
     "data": {
      "text/plain": [
       "array([[1.08276444, 0.30027902],\n",
       "       [0.30027902, 0.11268181]])"
      ]
     },
     "execution_count": 276,
     "metadata": {},
     "output_type": "execute_result"
    }
   ],
   "source": [
    "y_pred_features9 = ensemble_features9.predict(X_val_features9)\n",
    "\n",
    "np.cov(y_val, y_pred_features9)"
   ]
  },
  {
   "cell_type": "code",
   "execution_count": null,
   "id": "3604fe44-50f1-4cd2-8136-3b340cea220a",
   "metadata": {},
   "outputs": [],
   "source": [
    "features10 = features_list[9]\n",
    "\n",
    "X_train_features10 = train_original[order_features+features10][:-100000]\n",
    "\n",
    "X_val_features10 = train_original[order_features+features10][-100000:]\n",
    "\n",
    "t = time.time()\n",
    "\n",
    "ensemble_features10 = IncrementalLagEnsemble(\n",
    "    feature_batch_size=9,  # Slightly smaller batches due to more features\n",
    "    lag_batch_size=5,\n",
    "    n_epochs=9  # Increased to 9 as requested\n",
    ")\n",
    "\n",
    "ensemble_features10.fit(X_train_features10, y_train)\n",
    "\n",
    "print(f\"Training Time: {time.time()-t}\")"
   ]
  },
  {
   "cell_type": "code",
   "execution_count": 284,
   "id": "54480a0d-16dc-4b29-9460-efc29f3ed344",
   "metadata": {},
   "outputs": [
    {
     "data": {
      "text/plain": [
       "array([[1.08276444, 0.33769377],\n",
       "       [0.33769377, 0.13105059]])"
      ]
     },
     "execution_count": 284,
     "metadata": {},
     "output_type": "execute_result"
    }
   ],
   "source": [
    "y_pred_features10 = ensemble_features10.predict(X_val_features10)\n",
    "\n",
    "np.cov(y_val, y_pred_features10)"
   ]
  },
  {
   "cell_type": "code",
   "execution_count": 36,
   "id": "798a3f70-df5b-433f-b2dd-ab0a6d6ae1ae",
   "metadata": {},
   "outputs": [
    {
     "data": {
      "text/plain": [
       "0.8964735007529155"
      ]
     },
     "execution_count": 36,
     "metadata": {},
     "output_type": "execute_result"
    }
   ],
   "source": [
    "0.33769377/(np.sqrt(1.08276*0.13105059))"
   ]
  },
  {
   "cell_type": "code",
   "execution_count": null,
   "id": "9fe451e3-212e-4a58-b21d-3a6a4f497b5d",
   "metadata": {},
   "outputs": [],
   "source": [
    "features11 = features_list[10]\n",
    "\n",
    "X_train_features11 = train_original[order_features+features11][:-100000]\n",
    "\n",
    "X_val_features11 = train_original[order_features+features11][-100000:]\n",
    "\n",
    "t = time.time()\n",
    "\n",
    "ensemble_features11 = IncrementalLagEnsemble(\n",
    "    feature_batch_size=9,  # Slightly smaller batches due to more features\n",
    "    lag_batch_size=5,\n",
    "    n_epochs=9  # Increased to 9 as requested\n",
    ")\n",
    "\n",
    "ensemble_features11.fit(X_train_features11, y_train)\n",
    "\n",
    "print(f\"Training Time: {time.time()-t}\")"
   ]
  },
  {
   "cell_type": "code",
   "execution_count": 294,
   "id": "fbfdc89c-d7fb-46f2-91d5-ce97a77d9745",
   "metadata": {},
   "outputs": [
    {
     "data": {
      "text/plain": [
       "array([[1.08276444, 0.32141151],\n",
       "       [0.32141151, 0.12609677]])"
      ]
     },
     "execution_count": 294,
     "metadata": {},
     "output_type": "execute_result"
    }
   ],
   "source": [
    "y_pred_features11 = ensemble_features11.predict(X_val_features11)\n",
    "\n",
    "np.cov(y_val, y_pred_features11)"
   ]
  },
  {
   "cell_type": "code",
   "execution_count": 38,
   "id": "96134299-0b0e-483a-b5c4-f093e7e86fe3",
   "metadata": {},
   "outputs": [
    {
     "data": {
      "text/plain": [
       "0.8698479461153206"
      ]
     },
     "execution_count": 38,
     "metadata": {},
     "output_type": "execute_result"
    }
   ],
   "source": [
    "0.32141151/(np.sqrt(1.08276*0.12609677))"
   ]
  },
  {
   "cell_type": "code",
   "execution_count": null,
   "id": "e1878a91-3f87-49d2-b781-f05b8c82fb90",
   "metadata": {},
   "outputs": [],
   "source": [
    "features12 = features_list[11]\n",
    "\n",
    "X_train_features12 = train_original[order_features+features12][:-100000]\n",
    "\n",
    "X_val_features12 = train_original[order_features+features12][-100000:]\n",
    "\n",
    "t = time.time()\n",
    "\n",
    "ensemble_features12 = IncrementalLagEnsemble(\n",
    "    feature_batch_size=8,  # Slightly smaller batches due to more features\n",
    "    lag_batch_size=5,\n",
    "    n_epochs=9  # Increased to 9 as requested\n",
    ")\n",
    "\n",
    "ensemble_features12.fit(X_train_features12, y_train)\n",
    "\n",
    "print(f\"Training Time: {time.time()-t}\")"
   ]
  },
  {
   "cell_type": "code",
   "execution_count": 300,
   "id": "6f87e79e-af80-4596-8523-296d64e52c26",
   "metadata": {},
   "outputs": [
    {
     "data": {
      "text/plain": [
       "array([[1.08276444, 0.28864215],\n",
       "       [0.28864215, 0.10244512]])"
      ]
     },
     "execution_count": 300,
     "metadata": {},
     "output_type": "execute_result"
    }
   ],
   "source": [
    "y_pred_features12 = ensemble_features12.predict(X_val_features12)\n",
    "\n",
    "np.cov(y_val, y_pred_features12)"
   ]
  },
  {
   "cell_type": "code",
   "execution_count": 40,
   "id": "57be8a2c-e4f0-4a2b-8d2b-b6ff74ca1bb5",
   "metadata": {},
   "outputs": [
    {
     "data": {
      "text/plain": [
       "0.8666585209358717"
      ]
     },
     "execution_count": 40,
     "metadata": {},
     "output_type": "execute_result"
    }
   ],
   "source": [
    "0.28864215/(np.sqrt(1.08276*0.10244512))"
   ]
  },
  {
   "cell_type": "code",
   "execution_count": null,
   "id": "86543d68-fd8b-40ea-9eb2-c3304f153958",
   "metadata": {},
   "outputs": [],
   "source": []
  }
 ],
 "metadata": {
  "kernelspec": {
   "display_name": "Python 3 (ipykernel)",
   "language": "python",
   "name": "python3"
  },
  "language_info": {
   "codemirror_mode": {
    "name": "ipython",
    "version": 3
   },
   "file_extension": ".py",
   "mimetype": "text/x-python",
   "name": "python",
   "nbconvert_exporter": "python",
   "pygments_lexer": "ipython3",
   "version": "3.11.7"
  }
 },
 "nbformat": 4,
 "nbformat_minor": 5
}
