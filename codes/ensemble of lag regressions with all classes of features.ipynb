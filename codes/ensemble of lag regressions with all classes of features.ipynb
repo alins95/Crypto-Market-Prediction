{
 "cells": [
  {
   "cell_type": "markdown",
   "id": "11ad9290-bbb5-4daa-b046-a9c1fa4f2ceb",
   "metadata": {},
   "source": [
    "# Ensemble All the Lag_Reg Models.\n",
    "\n",
    "In this notebook, we are going to use Ridge regression to ensemble the 11 models we trained in the (training different lag models based on features sampled by clusters) notebook."
   ]
  },
  {
   "cell_type": "code",
   "execution_count": 3,
   "id": "8ca5117c-7dd3-48db-90c2-32ef5fde38f4",
   "metadata": {},
   "outputs": [],
   "source": [
    "import numpy as np\n",
    "import pandas as pd\n",
    "import matplotlib.pyplot as plt\n",
    "from sklearn.linear_model import Ridge, SGDRegressor, LinearRegression\n",
    "from sklearn.preprocessing import StandardScaler\n",
    "import os\n",
    "import gc\n",
    "import warnings\n",
    "from tqdm.notebook import tqdm\n",
    "import time\n",
    "from collections import defaultdict\n",
    "warnings.filterwarnings('ignore')"
   ]
  },
  {
   "cell_type": "code",
   "execution_count": 3,
   "id": "8ba63b1d-702a-454d-94f3-28688aae5f10",
   "metadata": {},
   "outputs": [],
   "source": [
    "train_pred0 = pd.read_parquet('train_pred0.parquet')\n",
    "\n",
    "train_pred1 = pd.read_parquet('train_pred1.parquet')\n",
    "\n",
    "train_pred2 = pd.read_parquet('train_pred2.parquet')\n",
    "\n",
    "val_pred0 = pd.read_parquet('val_pred0.parquet')\n",
    "\n",
    "val_pred1 = pd.read_parquet('val_pred1.parquet')\n",
    "\n",
    "val_pred2 = pd.read_parquet('val_pred2.parquet')\n",
    "\n",
    "Y = pd.read_parquet('data/train.parquet')['label']"
   ]
  },
  {
   "cell_type": "markdown",
   "id": "172729f7-e4ea-4a22-93da-923adb3f2735",
   "metadata": {},
   "source": [
    "## Training The Ridge Model\n",
    "\n",
    "We train several ridge models with different alphas on the output of our 11 models. The best alpha is 2100 with validation score of 0.98 which is a great improvement from the X_clustered model with 0.92 validation loss."
   ]
  },
  {
   "cell_type": "code",
   "execution_count": 4,
   "id": "24ffb24d-a653-441c-87be-4952d8b3c33b",
   "metadata": {},
   "outputs": [],
   "source": [
    "y_train = Y[:-100000]\n",
    "\n",
    "y_val = Y[-100000:]"
   ]
  },
  {
   "cell_type": "code",
   "execution_count": 24,
   "id": "7bf9864e-208a-4509-b364-44f2a4bfc5e5",
   "metadata": {},
   "outputs": [
    {
     "data": {
      "text/plain": [
       "array([[1.       , 0.9725614],\n",
       "       [0.9725614, 1.       ]])"
      ]
     },
     "execution_count": 24,
     "metadata": {},
     "output_type": "execute_result"
    }
   ],
   "source": [
    "ridge0 = Ridge(alpha=1000)\n",
    "\n",
    "ridge0.fit(train_pred0, y_train)\n",
    "\n",
    "y_pred_0 = ridge0.predict(val_pred0)\n",
    "\n",
    "np.corrcoef(y_val, y_pred_0)"
   ]
  },
  {
   "cell_type": "code",
   "execution_count": 28,
   "id": "9a4f56da-e076-46ee-b6ca-17de42d1d350",
   "metadata": {},
   "outputs": [
    {
     "data": {
      "text/plain": [
       "array([[1.        , 0.95865278],\n",
       "       [0.95865278, 1.        ]])"
      ]
     },
     "execution_count": 28,
     "metadata": {},
     "output_type": "execute_result"
    }
   ],
   "source": [
    "ridge1 = Ridge(alpha=1000)\n",
    "\n",
    "ridge1.fit(train_pred1, y_train)\n",
    "\n",
    "y_pred_1 = ridge1.predict(val_pred1)\n",
    "\n",
    "np.corrcoef(y_val, y_pred_1)"
   ]
  },
  {
   "cell_type": "code",
   "execution_count": 40,
   "id": "5a4518d0-bd2f-4773-98af-acd46856bf59",
   "metadata": {},
   "outputs": [
    {
     "data": {
      "text/plain": [
       "array([[1.        , 0.96961475],\n",
       "       [0.96961475, 1.        ]])"
      ]
     },
     "execution_count": 40,
     "metadata": {},
     "output_type": "execute_result"
    }
   ],
   "source": [
    "ridge2 = Ridge(alpha=500)\n",
    "\n",
    "ridge2.fit(train_pred2, y_train)\n",
    "\n",
    "y_pred_2 = ridge2.predict(val_pred2)\n",
    "\n",
    "np.corrcoef(y_val, y_pred_2)"
   ]
  },
  {
   "cell_type": "code",
   "execution_count": 44,
   "id": "01b365c0-bac5-4237-820e-428515570eff",
   "metadata": {},
   "outputs": [
    {
     "data": {
      "text/plain": [
       "array([[1.        , 0.97843364],\n",
       "       [0.97843364, 1.        ]])"
      ]
     },
     "execution_count": 44,
     "metadata": {},
     "output_type": "execute_result"
    }
   ],
   "source": [
    "train_pred = pd.concat([train_pred0, train_pred1, train_pred2], axis=1)\n",
    "\n",
    "val_pred = pd.concat([val_pred0, val_pred1, val_pred2], axis=1)\n",
    "\n",
    "ridge = Ridge(alpha=2500)\n",
    "\n",
    "ridge.fit(train_pred, y_train)\n",
    "\n",
    "y_pred = ridge.predict(val_pred)\n",
    "\n",
    "np.corrcoef(y_val, y_pred)"
   ]
  },
  {
   "cell_type": "code",
   "execution_count": 96,
   "id": "e3814978-d51d-4134-9631-cea2f1cc4abf",
   "metadata": {},
   "outputs": [
    {
     "data": {
      "text/plain": [
       "array([[1.        , 0.97922451],\n",
       "       [0.97922451, 1.        ]])"
      ]
     },
     "execution_count": 96,
     "metadata": {},
     "output_type": "execute_result"
    }
   ],
   "source": [
    "ridge = Ridge(alpha=150, fit_intercept=False)\n",
    "\n",
    "ridge.fit(train_pred, y_train)\n",
    "\n",
    "y_pred = ridge.predict(val_pred)\n",
    "\n",
    "np.corrcoef(y_val, y_pred)"
   ]
  },
  {
   "cell_type": "code",
   "execution_count": 66,
   "id": "40e399ca-1cc1-4b8d-8883-bc037f3cd11c",
   "metadata": {},
   "outputs": [
    {
     "data": {
      "text/plain": [
       "1.3576026888471366"
      ]
     },
     "execution_count": 66,
     "metadata": {},
     "output_type": "execute_result"
    }
   ],
   "source": [
    "ridge.coef_.sum()"
   ]
  },
  {
   "cell_type": "code",
   "execution_count": 7,
   "id": "75eef9a1-5f91-436e-90ad-4de1adf74f97",
   "metadata": {},
   "outputs": [],
   "source": [
    "train_pred = pd.concat([train_pred0, train_pred1, train_pred2], axis=1)\n",
    "\n",
    "val_pred = pd.concat([val_pred0, val_pred1, val_pred2], axis=1)"
   ]
  },
  {
   "cell_type": "code",
   "execution_count": 9,
   "id": "44952a3d-4214-4449-8d14-afb1a3ddb112",
   "metadata": {},
   "outputs": [],
   "source": [
    "train_pred1 = pd.read_parquet('train_pred_[3,4,5,7]')\n",
    "\n",
    "train_pred2 = pd.read_parquet('train_pred_[6,8,..]')"
   ]
  },
  {
   "cell_type": "code",
   "execution_count": 11,
   "id": "fac8e781-2bef-4535-aeb7-0bc0ae604f14",
   "metadata": {},
   "outputs": [],
   "source": [
    "val_pred1 = pd.read_parquet('val_pred_[3,4,5,7]')\n",
    "\n",
    "val_pred2 = pd.read_parquet('val_pred_[6,8,..]')"
   ]
  },
  {
   "cell_type": "code",
   "execution_count": 13,
   "id": "7eee7a3f-8ecd-40a4-b7e4-d37fc8f7745e",
   "metadata": {},
   "outputs": [],
   "source": [
    "train = pd.concat([train_pred, train_pred1, train_pred2], axis=1)\n",
    "\n",
    "val = pd.concat([val_pred, val_pred1, val_pred2], axis=1)"
   ]
  },
  {
   "cell_type": "code",
   "execution_count": 45,
   "id": "9e17bead-3782-4185-926a-664d82a04b3e",
   "metadata": {},
   "outputs": [
    {
     "data": {
      "text/plain": [
       "array([[1.        , 0.98319669],\n",
       "       [0.98319669, 1.        ]])"
      ]
     },
     "execution_count": 45,
     "metadata": {},
     "output_type": "execute_result"
    }
   ],
   "source": [
    "ridge = Ridge(alpha=2100, fit_intercept=False)\n",
    "\n",
    "ridge.fit(train, y_train)\n",
    "\n",
    "y_pred = ridge.predict(val)\n",
    "\n",
    "np.corrcoef(y_val, y_pred)"
   ]
  },
  {
   "cell_type": "code",
   "execution_count": 5,
   "id": "d7ee1264-4d72-4508-b0ee-97c317d38c10",
   "metadata": {},
   "outputs": [],
   "source": [
    "train1 = pd.read_parquet('train_preds_[0,1,2].parquet')\n",
    "\n",
    "train2 = pd.read_parquet('train_preds_[3,4,5,7].parquet')\n",
    "\n",
    "train3 = pd.read_parquet('train_preds_[6,8].parquet')\n",
    "\n",
    "train4 = pd.read_parquet('train_preds_[9,10,11].parquet')"
   ]
  },
  {
   "cell_type": "code",
   "execution_count": 6,
   "id": "5e85eb29-116b-488c-a240-22b31acdacd4",
   "metadata": {},
   "outputs": [
    {
     "data": {
      "text/plain": [
       "0"
      ]
     },
     "execution_count": 6,
     "metadata": {},
     "output_type": "execute_result"
    }
   ],
   "source": [
    "train_pred = pd.concat([train1, train2, train3, train4], axis=1)\n",
    "\n",
    "del train1, train2, train3, train4\n",
    "gc.collect()"
   ]
  },
  {
   "cell_type": "code",
   "execution_count": 7,
   "id": "3fc4cccd-37a1-4b0c-8478-57ab4eaeb6d7",
   "metadata": {},
   "outputs": [],
   "source": [
    "test1 = pd.read_parquet('test_preds_[0,1,2].parquet')\n",
    "\n",
    "test2 = pd.read_parquet('test_preds_[3,4,5,7].parquet')\n",
    "\n",
    "test3 = pd.read_parquet('test_preds_[6,8].parquet')\n",
    "\n",
    "test4 = pd.read_parquet('test_preds_[9,10,11].parquet')"
   ]
  },
  {
   "cell_type": "code",
   "execution_count": 8,
   "id": "af6538a2-0a17-44d6-a979-e9bc833d734a",
   "metadata": {},
   "outputs": [
    {
     "data": {
      "text/plain": [
       "0"
      ]
     },
     "execution_count": 8,
     "metadata": {},
     "output_type": "execute_result"
    }
   ],
   "source": [
    "test_pred = pd.concat([test1, test2, test3, test4], axis=1)\n",
    "\n",
    "del test1, test2, test3, test4\n",
    "gc.collect()"
   ]
  },
  {
   "cell_type": "code",
   "execution_count": 9,
   "id": "0d61433c-7ba9-46da-99c9-f720209ce261",
   "metadata": {},
   "outputs": [],
   "source": [
    "Y = pd.read_parquet('data/train.parquet')['label']"
   ]
  },
  {
   "cell_type": "code",
   "execution_count": 29,
   "id": "e02cc189-0298-4480-96e1-43ca8809fe88",
   "metadata": {},
   "outputs": [],
   "source": [
    "ridge = Ridge(alpha=4.2e4, fit_intercept=False)\n",
    "\n",
    "ridge.fit(train_pred, Y)\n",
    "\n",
    "y_pred_ridge = ridge.predict(test_pred) "
   ]
  },
  {
   "cell_type": "code",
   "execution_count": 53,
   "id": "7ef21a07-61d8-4654-a3fd-735b2f4c4e19",
   "metadata": {},
   "outputs": [
    {
     "data": {
      "text/plain": [
       "1.3175969729014754"
      ]
     },
     "execution_count": 53,
     "metadata": {},
     "output_type": "execute_result"
    }
   ],
   "source": [
    "ridge.coef_.sum()"
   ]
  },
  {
   "cell_type": "code",
   "execution_count": 30,
   "id": "eb264193-741a-4f68-ad72-bc806066fb82",
   "metadata": {},
   "outputs": [
    {
     "data": {
      "text/plain": [
       "1.266998222587056"
      ]
     },
     "execution_count": 30,
     "metadata": {},
     "output_type": "execute_result"
    }
   ],
   "source": [
    "ridge.coef_.sum()"
   ]
  },
  {
   "cell_type": "code",
   "execution_count": 27,
   "id": "55b97bbe-107f-442d-a80a-22e26f28396a",
   "metadata": {},
   "outputs": [
    {
     "data": {
      "text/plain": [
       "0"
      ]
     },
     "execution_count": 27,
     "metadata": {},
     "output_type": "execute_result"
    }
   ],
   "source": [
    "del y_pred_ridge, A, ridge, new , test\n",
    "gc.collect()"
   ]
  },
  {
   "cell_type": "markdown",
   "id": "45883771-1f66-46b4-adae-6de0937669df",
   "metadata": {},
   "source": [
    "## Evaluation on the Test Set\n",
    "\n",
    "Evaluate the model on the test set and save the result."
   ]
  },
  {
   "cell_type": "code",
   "execution_count": 33,
   "id": "495a9119-ef4b-4919-9c60-99a4c7e17d6f",
   "metadata": {},
   "outputs": [
    {
     "data": {
      "text/html": [
       "<div>\n",
       "<style scoped>\n",
       "    .dataframe tbody tr th:only-of-type {\n",
       "        vertical-align: middle;\n",
       "    }\n",
       "\n",
       "    .dataframe tbody tr th {\n",
       "        vertical-align: top;\n",
       "    }\n",
       "\n",
       "    .dataframe thead th {\n",
       "        text-align: right;\n",
       "    }\n",
       "</style>\n",
       "<table border=\"1\" class=\"dataframe\">\n",
       "  <thead>\n",
       "    <tr style=\"text-align: right;\">\n",
       "      <th></th>\n",
       "      <th>ID</th>\n",
       "      <th>bid_qty</th>\n",
       "      <th>ask_qty</th>\n",
       "      <th>buy_qty</th>\n",
       "      <th>sell_qty</th>\n",
       "      <th>volume</th>\n",
       "      <th>X1</th>\n",
       "      <th>X2</th>\n",
       "      <th>X3</th>\n",
       "      <th>X4</th>\n",
       "      <th>...</th>\n",
       "      <th>X773</th>\n",
       "      <th>X774</th>\n",
       "      <th>X775</th>\n",
       "      <th>X776</th>\n",
       "      <th>X777</th>\n",
       "      <th>X778</th>\n",
       "      <th>X779</th>\n",
       "      <th>X780</th>\n",
       "      <th>label</th>\n",
       "      <th>row_id</th>\n",
       "    </tr>\n",
       "  </thead>\n",
       "  <tbody>\n",
       "    <tr>\n",
       "      <th>0</th>\n",
       "      <td>1</td>\n",
       "      <td>0.317</td>\n",
       "      <td>8.102</td>\n",
       "      <td>13.164</td>\n",
       "      <td>10.272</td>\n",
       "      <td>23.436</td>\n",
       "      <td>-0.341229</td>\n",
       "      <td>0.041851</td>\n",
       "      <td>-0.020094</td>\n",
       "      <td>-0.206221</td>\n",
       "      <td>...</td>\n",
       "      <td>-0.043417</td>\n",
       "      <td>1.521787</td>\n",
       "      <td>1.548965</td>\n",
       "      <td>1.495735</td>\n",
       "      <td>1.166730</td>\n",
       "      <td>0.281056</td>\n",
       "      <td>-0.187831</td>\n",
       "      <td>-0.599553</td>\n",
       "      <td>0</td>\n",
       "      <td>112334</td>\n",
       "    </tr>\n",
       "    <tr>\n",
       "      <th>1</th>\n",
       "      <td>2</td>\n",
       "      <td>2.608</td>\n",
       "      <td>2.111</td>\n",
       "      <td>123.562</td>\n",
       "      <td>40.163</td>\n",
       "      <td>163.725</td>\n",
       "      <td>-1.029564</td>\n",
       "      <td>-1.382505</td>\n",
       "      <td>-1.214935</td>\n",
       "      <td>-1.020241</td>\n",
       "      <td>...</td>\n",
       "      <td>-0.077090</td>\n",
       "      <td>-0.703054</td>\n",
       "      <td>-0.716951</td>\n",
       "      <td>-0.721292</td>\n",
       "      <td>-0.674619</td>\n",
       "      <td>-0.639318</td>\n",
       "      <td>-0.736268</td>\n",
       "      <td>-0.862220</td>\n",
       "      <td>0</td>\n",
       "      <td>69300</td>\n",
       "    </tr>\n",
       "    <tr>\n",
       "      <th>2</th>\n",
       "      <td>3</td>\n",
       "      <td>2.768</td>\n",
       "      <td>10.787</td>\n",
       "      <td>126.137</td>\n",
       "      <td>118.266</td>\n",
       "      <td>244.403</td>\n",
       "      <td>-2.594090</td>\n",
       "      <td>-5.486158</td>\n",
       "      <td>-4.744466</td>\n",
       "      <td>-3.930152</td>\n",
       "      <td>...</td>\n",
       "      <td>-0.030627</td>\n",
       "      <td>-0.703514</td>\n",
       "      <td>-0.717525</td>\n",
       "      <td>-0.731701</td>\n",
       "      <td>-0.750998</td>\n",
       "      <td>-0.789366</td>\n",
       "      <td>-0.850941</td>\n",
       "      <td>-1.033131</td>\n",
       "      <td>0</td>\n",
       "      <td>152075</td>\n",
       "    </tr>\n",
       "    <tr>\n",
       "      <th>3</th>\n",
       "      <td>4</td>\n",
       "      <td>0.948</td>\n",
       "      <td>12.157</td>\n",
       "      <td>16.069</td>\n",
       "      <td>31.723</td>\n",
       "      <td>47.792</td>\n",
       "      <td>0.240745</td>\n",
       "      <td>0.997585</td>\n",
       "      <td>1.028965</td>\n",
       "      <td>1.081052</td>\n",
       "      <td>...</td>\n",
       "      <td>-0.033380</td>\n",
       "      <td>1.521167</td>\n",
       "      <td>1.551771</td>\n",
       "      <td>1.582833</td>\n",
       "      <td>1.625830</td>\n",
       "      <td>1.762155</td>\n",
       "      <td>1.911924</td>\n",
       "      <td>1.962445</td>\n",
       "      <td>0</td>\n",
       "      <td>255828</td>\n",
       "    </tr>\n",
       "    <tr>\n",
       "      <th>4</th>\n",
       "      <td>5</td>\n",
       "      <td>1.084</td>\n",
       "      <td>3.493</td>\n",
       "      <td>32.679</td>\n",
       "      <td>37.327</td>\n",
       "      <td>70.006</td>\n",
       "      <td>0.067189</td>\n",
       "      <td>0.772852</td>\n",
       "      <td>0.772152</td>\n",
       "      <td>0.714846</td>\n",
       "      <td>...</td>\n",
       "      <td>-0.004915</td>\n",
       "      <td>-0.703161</td>\n",
       "      <td>-0.716900</td>\n",
       "      <td>-0.714699</td>\n",
       "      <td>-0.652209</td>\n",
       "      <td>-0.623165</td>\n",
       "      <td>-0.699887</td>\n",
       "      <td>-0.640094</td>\n",
       "      <td>0</td>\n",
       "      <td>390226</td>\n",
       "    </tr>\n",
       "  </tbody>\n",
       "</table>\n",
       "<p>5 rows × 788 columns</p>\n",
       "</div>"
      ],
      "text/plain": [
       "   ID  bid_qty  ask_qty  buy_qty  sell_qty   volume        X1        X2  \\\n",
       "0   1    0.317    8.102   13.164    10.272   23.436 -0.341229  0.041851   \n",
       "1   2    2.608    2.111  123.562    40.163  163.725 -1.029564 -1.382505   \n",
       "2   3    2.768   10.787  126.137   118.266  244.403 -2.594090 -5.486158   \n",
       "3   4    0.948   12.157   16.069    31.723   47.792  0.240745  0.997585   \n",
       "4   5    1.084    3.493   32.679    37.327   70.006  0.067189  0.772852   \n",
       "\n",
       "         X3        X4  ...      X773      X774      X775      X776      X777  \\\n",
       "0 -0.020094 -0.206221  ... -0.043417  1.521787  1.548965  1.495735  1.166730   \n",
       "1 -1.214935 -1.020241  ... -0.077090 -0.703054 -0.716951 -0.721292 -0.674619   \n",
       "2 -4.744466 -3.930152  ... -0.030627 -0.703514 -0.717525 -0.731701 -0.750998   \n",
       "3  1.028965  1.081052  ... -0.033380  1.521167  1.551771  1.582833  1.625830   \n",
       "4  0.772152  0.714846  ... -0.004915 -0.703161 -0.716900 -0.714699 -0.652209   \n",
       "\n",
       "       X778      X779      X780  label  row_id  \n",
       "0  0.281056 -0.187831 -0.599553      0  112334  \n",
       "1 -0.639318 -0.736268 -0.862220      0   69300  \n",
       "2 -0.789366 -0.850941 -1.033131      0  152075  \n",
       "3  1.762155  1.911924  1.962445      0  255828  \n",
       "4 -0.623165 -0.699887 -0.640094      0  390226  \n",
       "\n",
       "[5 rows x 788 columns]"
      ]
     },
     "execution_count": 33,
     "metadata": {},
     "output_type": "execute_result"
    }
   ],
   "source": [
    "test = pd.read_parquet('data/test.parquet')\n",
    "\n",
    "row_id = pd.read_csv('closest_rows.csv', index_col=0)\n",
    "\n",
    "new = test.reset_index()\n",
    "\n",
    "new['row_id'] = row_id['0']\n",
    "\n",
    "new.head()"
   ]
  },
  {
   "cell_type": "code",
   "execution_count": 34,
   "id": "d29c0913-ed27-42f3-bf43-c553934dc17b",
   "metadata": {},
   "outputs": [
    {
     "data": {
      "text/html": [
       "<div>\n",
       "<style scoped>\n",
       "    .dataframe tbody tr th:only-of-type {\n",
       "        vertical-align: middle;\n",
       "    }\n",
       "\n",
       "    .dataframe tbody tr th {\n",
       "        vertical-align: top;\n",
       "    }\n",
       "\n",
       "    .dataframe thead th {\n",
       "        text-align: right;\n",
       "    }\n",
       "</style>\n",
       "<table border=\"1\" class=\"dataframe\">\n",
       "  <thead>\n",
       "    <tr style=\"text-align: right;\">\n",
       "      <th></th>\n",
       "      <th>ID</th>\n",
       "      <th>bid_qty</th>\n",
       "      <th>ask_qty</th>\n",
       "      <th>buy_qty</th>\n",
       "      <th>sell_qty</th>\n",
       "      <th>volume</th>\n",
       "      <th>X1</th>\n",
       "      <th>X2</th>\n",
       "      <th>X3</th>\n",
       "      <th>X4</th>\n",
       "      <th>...</th>\n",
       "      <th>X773</th>\n",
       "      <th>X774</th>\n",
       "      <th>X775</th>\n",
       "      <th>X776</th>\n",
       "      <th>X777</th>\n",
       "      <th>X778</th>\n",
       "      <th>X779</th>\n",
       "      <th>X780</th>\n",
       "      <th>label</th>\n",
       "      <th>row_id</th>\n",
       "    </tr>\n",
       "  </thead>\n",
       "  <tbody>\n",
       "    <tr>\n",
       "      <th>192617</th>\n",
       "      <td>192618</td>\n",
       "      <td>1.037</td>\n",
       "      <td>20.607</td>\n",
       "      <td>20.377</td>\n",
       "      <td>18.854</td>\n",
       "      <td>39.231</td>\n",
       "      <td>1.907120</td>\n",
       "      <td>0.428308</td>\n",
       "      <td>0.981918</td>\n",
       "      <td>1.342953</td>\n",
       "      <td>...</td>\n",
       "      <td>-0.046392</td>\n",
       "      <td>1.523177</td>\n",
       "      <td>1.547193</td>\n",
       "      <td>1.462730</td>\n",
       "      <td>1.084867</td>\n",
       "      <td>0.196849</td>\n",
       "      <td>-0.249480</td>\n",
       "      <td>-0.644863</td>\n",
       "      <td>0</td>\n",
       "      <td>-1</td>\n",
       "    </tr>\n",
       "    <tr>\n",
       "      <th>188498</th>\n",
       "      <td>188499</td>\n",
       "      <td>24.169</td>\n",
       "      <td>2.624</td>\n",
       "      <td>7.885</td>\n",
       "      <td>9.266</td>\n",
       "      <td>17.151</td>\n",
       "      <td>0.555521</td>\n",
       "      <td>0.461120</td>\n",
       "      <td>0.728130</td>\n",
       "      <td>0.766869</td>\n",
       "      <td>...</td>\n",
       "      <td>-0.012611</td>\n",
       "      <td>1.522990</td>\n",
       "      <td>1.553631</td>\n",
       "      <td>1.584729</td>\n",
       "      <td>1.626858</td>\n",
       "      <td>1.580276</td>\n",
       "      <td>1.221571</td>\n",
       "      <td>0.683121</td>\n",
       "      <td>0</td>\n",
       "      <td>-1</td>\n",
       "    </tr>\n",
       "    <tr>\n",
       "      <th>424484</th>\n",
       "      <td>424485</td>\n",
       "      <td>9.500</td>\n",
       "      <td>10.256</td>\n",
       "      <td>27.151</td>\n",
       "      <td>12.778</td>\n",
       "      <td>39.929</td>\n",
       "      <td>0.696916</td>\n",
       "      <td>-0.095659</td>\n",
       "      <td>-0.216179</td>\n",
       "      <td>-0.155187</td>\n",
       "      <td>...</td>\n",
       "      <td>-0.017567</td>\n",
       "      <td>-0.703437</td>\n",
       "      <td>-0.717389</td>\n",
       "      <td>-0.731427</td>\n",
       "      <td>-0.747933</td>\n",
       "      <td>-0.755011</td>\n",
       "      <td>-0.796735</td>\n",
       "      <td>-0.778168</td>\n",
       "      <td>0</td>\n",
       "      <td>-1</td>\n",
       "    </tr>\n",
       "    <tr>\n",
       "      <th>424482</th>\n",
       "      <td>424483</td>\n",
       "      <td>1.910</td>\n",
       "      <td>4.205</td>\n",
       "      <td>121.387</td>\n",
       "      <td>90.664</td>\n",
       "      <td>212.051</td>\n",
       "      <td>1.207702</td>\n",
       "      <td>0.990580</td>\n",
       "      <td>1.029870</td>\n",
       "      <td>1.112571</td>\n",
       "      <td>...</td>\n",
       "      <td>-0.046124</td>\n",
       "      <td>-0.703374</td>\n",
       "      <td>-0.669391</td>\n",
       "      <td>-0.506669</td>\n",
       "      <td>-0.386120</td>\n",
       "      <td>-0.519117</td>\n",
       "      <td>-0.647202</td>\n",
       "      <td>-0.578245</td>\n",
       "      <td>0</td>\n",
       "      <td>-1</td>\n",
       "    </tr>\n",
       "    <tr>\n",
       "      <th>268120</th>\n",
       "      <td>268121</td>\n",
       "      <td>4.567</td>\n",
       "      <td>4.285</td>\n",
       "      <td>37.114</td>\n",
       "      <td>25.157</td>\n",
       "      <td>62.271</td>\n",
       "      <td>-1.007777</td>\n",
       "      <td>-0.636524</td>\n",
       "      <td>-0.791924</td>\n",
       "      <td>-0.824496</td>\n",
       "      <td>...</td>\n",
       "      <td>-0.025530</td>\n",
       "      <td>1.521299</td>\n",
       "      <td>1.551170</td>\n",
       "      <td>1.542630</td>\n",
       "      <td>1.314757</td>\n",
       "      <td>0.461959</td>\n",
       "      <td>-0.050952</td>\n",
       "      <td>-0.498569</td>\n",
       "      <td>0</td>\n",
       "      <td>-1</td>\n",
       "    </tr>\n",
       "  </tbody>\n",
       "</table>\n",
       "<p>5 rows × 788 columns</p>\n",
       "</div>"
      ],
      "text/plain": [
       "            ID  bid_qty  ask_qty  buy_qty  sell_qty   volume        X1  \\\n",
       "192617  192618    1.037   20.607   20.377    18.854   39.231  1.907120   \n",
       "188498  188499   24.169    2.624    7.885     9.266   17.151  0.555521   \n",
       "424484  424485    9.500   10.256   27.151    12.778   39.929  0.696916   \n",
       "424482  424483    1.910    4.205  121.387    90.664  212.051  1.207702   \n",
       "268120  268121    4.567    4.285   37.114    25.157   62.271 -1.007777   \n",
       "\n",
       "              X2        X3        X4  ...      X773      X774      X775  \\\n",
       "192617  0.428308  0.981918  1.342953  ... -0.046392  1.523177  1.547193   \n",
       "188498  0.461120  0.728130  0.766869  ... -0.012611  1.522990  1.553631   \n",
       "424484 -0.095659 -0.216179 -0.155187  ... -0.017567 -0.703437 -0.717389   \n",
       "424482  0.990580  1.029870  1.112571  ... -0.046124 -0.703374 -0.669391   \n",
       "268120 -0.636524 -0.791924 -0.824496  ... -0.025530  1.521299  1.551170   \n",
       "\n",
       "            X776      X777      X778      X779      X780  label  row_id  \n",
       "192617  1.462730  1.084867  0.196849 -0.249480 -0.644863      0      -1  \n",
       "188498  1.584729  1.626858  1.580276  1.221571  0.683121      0      -1  \n",
       "424484 -0.731427 -0.747933 -0.755011 -0.796735 -0.778168      0      -1  \n",
       "424482 -0.506669 -0.386120 -0.519117 -0.647202 -0.578245      0      -1  \n",
       "268120  1.542630  1.314757  0.461959 -0.050952 -0.498569      0      -1  \n",
       "\n",
       "[5 rows x 788 columns]"
      ]
     },
     "execution_count": 34,
     "metadata": {},
     "output_type": "execute_result"
    }
   ],
   "source": [
    "new = new.sort_values('row_id')\n",
    "\n",
    "new.head()"
   ]
  },
  {
   "cell_type": "code",
   "execution_count": 37,
   "id": "a54885fc-783f-4776-8a82-b86e39d2f9c0",
   "metadata": {},
   "outputs": [
    {
     "data": {
      "text/html": [
       "<div>\n",
       "<style scoped>\n",
       "    .dataframe tbody tr th:only-of-type {\n",
       "        vertical-align: middle;\n",
       "    }\n",
       "\n",
       "    .dataframe tbody tr th {\n",
       "        vertical-align: top;\n",
       "    }\n",
       "\n",
       "    .dataframe thead th {\n",
       "        text-align: right;\n",
       "    }\n",
       "</style>\n",
       "<table border=\"1\" class=\"dataframe\">\n",
       "  <thead>\n",
       "    <tr style=\"text-align: right;\">\n",
       "      <th></th>\n",
       "      <th>ID</th>\n",
       "      <th>bid_qty</th>\n",
       "      <th>ask_qty</th>\n",
       "      <th>buy_qty</th>\n",
       "      <th>sell_qty</th>\n",
       "      <th>volume</th>\n",
       "      <th>X1</th>\n",
       "      <th>X2</th>\n",
       "      <th>X3</th>\n",
       "      <th>X4</th>\n",
       "      <th>...</th>\n",
       "      <th>X774</th>\n",
       "      <th>X775</th>\n",
       "      <th>X776</th>\n",
       "      <th>X777</th>\n",
       "      <th>X778</th>\n",
       "      <th>X779</th>\n",
       "      <th>X780</th>\n",
       "      <th>label</th>\n",
       "      <th>row_id</th>\n",
       "      <th>pred</th>\n",
       "    </tr>\n",
       "  </thead>\n",
       "  <tbody>\n",
       "    <tr>\n",
       "      <th>0</th>\n",
       "      <td>1</td>\n",
       "      <td>0.317</td>\n",
       "      <td>8.102</td>\n",
       "      <td>13.164</td>\n",
       "      <td>10.272</td>\n",
       "      <td>23.436</td>\n",
       "      <td>-0.341229</td>\n",
       "      <td>0.041851</td>\n",
       "      <td>-0.020094</td>\n",
       "      <td>-0.206221</td>\n",
       "      <td>...</td>\n",
       "      <td>1.521787</td>\n",
       "      <td>1.548965</td>\n",
       "      <td>1.495735</td>\n",
       "      <td>1.166730</td>\n",
       "      <td>0.281056</td>\n",
       "      <td>-0.187831</td>\n",
       "      <td>-0.599553</td>\n",
       "      <td>0</td>\n",
       "      <td>112334</td>\n",
       "      <td>-0.217626</td>\n",
       "    </tr>\n",
       "    <tr>\n",
       "      <th>1</th>\n",
       "      <td>2</td>\n",
       "      <td>2.608</td>\n",
       "      <td>2.111</td>\n",
       "      <td>123.562</td>\n",
       "      <td>40.163</td>\n",
       "      <td>163.725</td>\n",
       "      <td>-1.029564</td>\n",
       "      <td>-1.382505</td>\n",
       "      <td>-1.214935</td>\n",
       "      <td>-1.020241</td>\n",
       "      <td>...</td>\n",
       "      <td>-0.703054</td>\n",
       "      <td>-0.716951</td>\n",
       "      <td>-0.721292</td>\n",
       "      <td>-0.674619</td>\n",
       "      <td>-0.639318</td>\n",
       "      <td>-0.736268</td>\n",
       "      <td>-0.862220</td>\n",
       "      <td>0</td>\n",
       "      <td>69300</td>\n",
       "      <td>0.321515</td>\n",
       "    </tr>\n",
       "    <tr>\n",
       "      <th>2</th>\n",
       "      <td>3</td>\n",
       "      <td>2.768</td>\n",
       "      <td>10.787</td>\n",
       "      <td>126.137</td>\n",
       "      <td>118.266</td>\n",
       "      <td>244.403</td>\n",
       "      <td>-2.594090</td>\n",
       "      <td>-5.486158</td>\n",
       "      <td>-4.744466</td>\n",
       "      <td>-3.930152</td>\n",
       "      <td>...</td>\n",
       "      <td>-0.703514</td>\n",
       "      <td>-0.717525</td>\n",
       "      <td>-0.731701</td>\n",
       "      <td>-0.750998</td>\n",
       "      <td>-0.789366</td>\n",
       "      <td>-0.850941</td>\n",
       "      <td>-1.033131</td>\n",
       "      <td>0</td>\n",
       "      <td>152075</td>\n",
       "      <td>-3.167622</td>\n",
       "    </tr>\n",
       "    <tr>\n",
       "      <th>3</th>\n",
       "      <td>4</td>\n",
       "      <td>0.948</td>\n",
       "      <td>12.157</td>\n",
       "      <td>16.069</td>\n",
       "      <td>31.723</td>\n",
       "      <td>47.792</td>\n",
       "      <td>0.240745</td>\n",
       "      <td>0.997585</td>\n",
       "      <td>1.028965</td>\n",
       "      <td>1.081052</td>\n",
       "      <td>...</td>\n",
       "      <td>1.521167</td>\n",
       "      <td>1.551771</td>\n",
       "      <td>1.582833</td>\n",
       "      <td>1.625830</td>\n",
       "      <td>1.762155</td>\n",
       "      <td>1.911924</td>\n",
       "      <td>1.962445</td>\n",
       "      <td>0</td>\n",
       "      <td>255828</td>\n",
       "      <td>-0.294751</td>\n",
       "    </tr>\n",
       "    <tr>\n",
       "      <th>4</th>\n",
       "      <td>5</td>\n",
       "      <td>1.084</td>\n",
       "      <td>3.493</td>\n",
       "      <td>32.679</td>\n",
       "      <td>37.327</td>\n",
       "      <td>70.006</td>\n",
       "      <td>0.067189</td>\n",
       "      <td>0.772852</td>\n",
       "      <td>0.772152</td>\n",
       "      <td>0.714846</td>\n",
       "      <td>...</td>\n",
       "      <td>-0.703161</td>\n",
       "      <td>-0.716900</td>\n",
       "      <td>-0.714699</td>\n",
       "      <td>-0.652209</td>\n",
       "      <td>-0.623165</td>\n",
       "      <td>-0.699887</td>\n",
       "      <td>-0.640094</td>\n",
       "      <td>0</td>\n",
       "      <td>390226</td>\n",
       "      <td>0.292119</td>\n",
       "    </tr>\n",
       "  </tbody>\n",
       "</table>\n",
       "<p>5 rows × 789 columns</p>\n",
       "</div>"
      ],
      "text/plain": [
       "   ID  bid_qty  ask_qty  buy_qty  sell_qty   volume        X1        X2  \\\n",
       "0   1    0.317    8.102   13.164    10.272   23.436 -0.341229  0.041851   \n",
       "1   2    2.608    2.111  123.562    40.163  163.725 -1.029564 -1.382505   \n",
       "2   3    2.768   10.787  126.137   118.266  244.403 -2.594090 -5.486158   \n",
       "3   4    0.948   12.157   16.069    31.723   47.792  0.240745  0.997585   \n",
       "4   5    1.084    3.493   32.679    37.327   70.006  0.067189  0.772852   \n",
       "\n",
       "         X3        X4  ...      X774      X775      X776      X777      X778  \\\n",
       "0 -0.020094 -0.206221  ...  1.521787  1.548965  1.495735  1.166730  0.281056   \n",
       "1 -1.214935 -1.020241  ... -0.703054 -0.716951 -0.721292 -0.674619 -0.639318   \n",
       "2 -4.744466 -3.930152  ... -0.703514 -0.717525 -0.731701 -0.750998 -0.789366   \n",
       "3  1.028965  1.081052  ...  1.521167  1.551771  1.582833  1.625830  1.762155   \n",
       "4  0.772152  0.714846  ... -0.703161 -0.716900 -0.714699 -0.652209 -0.623165   \n",
       "\n",
       "       X779      X780  label  row_id      pred  \n",
       "0 -0.187831 -0.599553      0  112334 -0.217626  \n",
       "1 -0.736268 -0.862220      0   69300  0.321515  \n",
       "2 -0.850941 -1.033131      0  152075 -3.167622  \n",
       "3  1.911924  1.962445      0  255828 -0.294751  \n",
       "4 -0.699887 -0.640094      0  390226  0.292119  \n",
       "\n",
       "[5 rows x 789 columns]"
      ]
     },
     "execution_count": 37,
     "metadata": {},
     "output_type": "execute_result"
    }
   ],
   "source": [
    "A = new.copy()\n",
    "\n",
    "A['pred'] = y_pred_ridge\n",
    "\n",
    "A.sort_values('ID', inplace=True)\n",
    "\n",
    "A.head()"
   ]
  },
  {
   "cell_type": "code",
   "execution_count": 39,
   "id": "18e3e3b4-b2c4-4739-b3b2-a1e69c7b4c9e",
   "metadata": {},
   "outputs": [
    {
     "data": {
      "text/html": [
       "<div>\n",
       "<style scoped>\n",
       "    .dataframe tbody tr th:only-of-type {\n",
       "        vertical-align: middle;\n",
       "    }\n",
       "\n",
       "    .dataframe tbody tr th {\n",
       "        vertical-align: top;\n",
       "    }\n",
       "\n",
       "    .dataframe thead th {\n",
       "        text-align: right;\n",
       "    }\n",
       "</style>\n",
       "<table border=\"1\" class=\"dataframe\">\n",
       "  <thead>\n",
       "    <tr style=\"text-align: right;\">\n",
       "      <th></th>\n",
       "      <th>ID</th>\n",
       "      <th>prediction</th>\n",
       "    </tr>\n",
       "  </thead>\n",
       "  <tbody>\n",
       "    <tr>\n",
       "      <th>0</th>\n",
       "      <td>1</td>\n",
       "      <td>-0.217626</td>\n",
       "    </tr>\n",
       "    <tr>\n",
       "      <th>1</th>\n",
       "      <td>2</td>\n",
       "      <td>0.321515</td>\n",
       "    </tr>\n",
       "    <tr>\n",
       "      <th>2</th>\n",
       "      <td>3</td>\n",
       "      <td>-3.167622</td>\n",
       "    </tr>\n",
       "    <tr>\n",
       "      <th>3</th>\n",
       "      <td>4</td>\n",
       "      <td>-0.294751</td>\n",
       "    </tr>\n",
       "    <tr>\n",
       "      <th>4</th>\n",
       "      <td>5</td>\n",
       "      <td>0.292119</td>\n",
       "    </tr>\n",
       "  </tbody>\n",
       "</table>\n",
       "</div>"
      ],
      "text/plain": [
       "   ID  prediction\n",
       "0   1   -0.217626\n",
       "1   2    0.321515\n",
       "2   3   -3.167622\n",
       "3   4   -0.294751\n",
       "4   5    0.292119"
      ]
     },
     "execution_count": 39,
     "metadata": {},
     "output_type": "execute_result"
    }
   ],
   "source": [
    "y_pred_test = A['pred']\n",
    "\n",
    "submission = pd.read_csv('data/sample_submission.csv')\n",
    "\n",
    "submission['prediction'] = y_pred_test.reset_index(drop=True)\n",
    "\n",
    "\n",
    "submission.to_csv('submission.csv', index = False)\n",
    "\n",
    "out = pd.read_csv('submission.csv')\n",
    "\n",
    "out.head()"
   ]
  },
  {
   "cell_type": "code",
   "execution_count": null,
   "id": "d2b55ad6-be05-4ab5-aa8e-c85b1b74b576",
   "metadata": {},
   "outputs": [],
   "source": []
  }
 ],
 "metadata": {
  "kernelspec": {
   "display_name": "Python (FineTune)",
   "language": "python",
   "name": "finetune"
  },
  "language_info": {
   "codemirror_mode": {
    "name": "ipython",
    "version": 3
   },
   "file_extension": ".py",
   "mimetype": "text/x-python",
   "name": "python",
   "nbconvert_exporter": "python",
   "pygments_lexer": "ipython3",
   "version": "3.12.4"
  }
 },
 "nbformat": 4,
 "nbformat_minor": 5
}
